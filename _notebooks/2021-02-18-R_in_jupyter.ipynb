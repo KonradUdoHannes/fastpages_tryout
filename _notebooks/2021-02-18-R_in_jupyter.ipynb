{
 "cells": [
  {
   "cell_type": "markdown",
   "id": "clean-attitude",
   "metadata": {},
   "source": [
    "# R in jupyter notebooks\n",
    "> Exploit R's notebook support for blogposts\n",
    "\n",
    "- toc: true\n",
    "- branch: master\n",
    "- badges: true\n",
    "- comments: true\n",
    "- author: Konrad Wölms\n",
    "- categories: [first steps, R, jupyter]"
   ]
  },
  {
   "cell_type": "markdown",
   "id": "numerical-clear",
   "metadata": {},
   "source": [
    "## Jupyter's intentions\n",
    "\n",
    "Jupyter was orignally designed as an interactive environment for Julia, Python and R. This is even reflected in the name **Ju**lia**pyt**hon**R**, even if they snug an *e* in there. In the python data science community jupyter is widely used, while the R community uses Rstudio as the standard IDE and it is what most newcomers to R are introduced to initially.\n",
    "\n",
    "Here we'll give an example of how to use jupyter as an alternative to Rstudio. This should not be misunderstood. Rstudio is a great tool and we don't want to downplay its importance. The main advantage of using jupyter is access to a set of tools that are specifically build for jupyter notebooks. Many of these tools were developed with python in mind, but the multi language usability of jupyter allows us to make use of them in R. This post is an example in the sense, that it was written for fastPages, a notebook blogging framework. "
   ]
  },
  {
   "cell_type": "code",
   "execution_count": 1,
   "id": "cordless-grant",
   "metadata": {},
   "outputs": [
    {
     "name": "stderr",
     "output_type": "stream",
     "text": [
      "Loading required package: tidyverse\n",
      "\n",
      "-- \u001b[1mAttaching packages\u001b[22m --------------------------------------- tidyverse 1.3.0 --\n",
      "\n",
      "\u001b[32mv\u001b[39m \u001b[34mggplot2\u001b[39m 3.3.3     \u001b[32mv\u001b[39m \u001b[34mpurrr  \u001b[39m 0.3.4\n",
      "\u001b[32mv\u001b[39m \u001b[34mtibble \u001b[39m 3.0.6     \u001b[32mv\u001b[39m \u001b[34mdplyr  \u001b[39m 1.0.4\n",
      "\u001b[32mv\u001b[39m \u001b[34mtidyr  \u001b[39m 1.1.2     \u001b[32mv\u001b[39m \u001b[34mstringr\u001b[39m 1.4.0\n",
      "\u001b[32mv\u001b[39m \u001b[34mreadr  \u001b[39m 1.4.0     \u001b[32mv\u001b[39m \u001b[34mforcats\u001b[39m 0.5.1\n",
      "\n",
      "-- \u001b[1mConflicts\u001b[22m ------------------------------------------ tidyverse_conflicts() --\n",
      "\u001b[31mx\u001b[39m \u001b[34mdplyr\u001b[39m::\u001b[32mfilter()\u001b[39m masks \u001b[34mstats\u001b[39m::filter()\n",
      "\u001b[31mx\u001b[39m \u001b[34mdplyr\u001b[39m::\u001b[32mlag()\u001b[39m    masks \u001b[34mstats\u001b[39m::lag()\n",
      "\n"
     ]
    }
   ],
   "source": [
    "#hide\n",
    "require('tidyverse');\n",
    "data(mtcars)"
   ]
  },
  {
   "cell_type": "code",
   "execution_count": 2,
   "id": "federal-malaysia",
   "metadata": {},
   "outputs": [
    {
     "data": {
      "image/png": "[encoded data removed]",
      "text/plain": [
       "plot without title"
      ]
     },
     "metadata": {
      "image/png": {
       "height": 420,
       "width": 420
      }
     },
     "output_type": "display_data"
    }
   ],
   "source": [
    "mtcars %>%\n",
    "    arrange('cyl') %>%\n",
    "    ggplot(aes(x=mpg,y=cyl)) +\n",
    "    geom_point()"
   ]
  },
  {
   "cell_type": "code",
   "execution_count": null,
   "id": "fitting-reason",
   "metadata": {},
   "outputs": [],
   "source": []
  }
 ],
 "metadata": {
  "kernelspec": {
   "display_name": "R",
   "language": "R",
   "name": "ir"
  },
  "language_info": {
   "codemirror_mode": "r",
   "file_extension": ".r",
   "mimetype": "text/x-r-source",
   "name": "R",
   "pygments_lexer": "r",
   "version": "3.5.2"
  }
 },
 "nbformat": 4,
 "nbformat_minor": 5
}
